{
 "cells": [
  {
   "cell_type": "code",
   "execution_count": 1,
   "id": "bdf40a41",
   "metadata": {
    "execution": {
     "iopub.execute_input": "2022-08-06T12:29:13.645285Z",
     "iopub.status.busy": "2022-08-06T12:29:13.644394Z",
     "iopub.status.idle": "2022-08-06T12:29:20.055393Z",
     "shell.execute_reply": "2022-08-06T12:29:20.054336Z"
    },
    "papermill": {
     "duration": 6.420881,
     "end_time": "2022-08-06T12:29:20.058618",
     "exception": false,
     "start_time": "2022-08-06T12:29:13.637737",
     "status": "completed"
    },
    "tags": []
   },
   "outputs": [
    {
     "name": "stdout",
     "output_type": "stream",
     "text": [
      "2.6.4\n"
     ]
    }
   ],
   "source": [
    "import cv2\n",
    "import datetime\n",
    "import numpy as np\n",
    "import pandas as pd\n",
    "import tensorflow as tf\n",
    "import os\n",
    "\n",
    "import seaborn as sns\n",
    "import matplotlib.pyplot as plt\n",
    "import matplotlib.gridspec as gridspec\n",
    "%matplotlib inline\n",
    "\n",
    "import sys\n",
    "import warnings\n",
    "if not sys.warnoptions:\n",
    "    warnings.simplefilter(\"ignore\")\n",
    "\n",
    "from random import randint\n",
    "from sklearn.utils import shuffle\n",
    "from sklearn.model_selection import train_test_split\n",
    "from sklearn.metrics import classification_report, confusion_matrix\n",
    "\n",
    "from tensorflow.keras import layers\n",
    "from tensorflow.keras import Model, Sequential\n",
    "from tensorflow.keras.utils import plot_model\n",
    "from tensorflow.keras.callbacks import ReduceLROnPlateau\n",
    "from tensorflow.keras.preprocessing.image import ImageDataGenerator\n",
    "\n",
    "\n",
    "print(tf.__version__)"
   ]
  },
  {
   "cell_type": "code",
   "execution_count": 2,
   "id": "96c2b1c0",
   "metadata": {
    "execution": {
     "iopub.execute_input": "2022-08-06T12:29:20.071067Z",
     "iopub.status.busy": "2022-08-06T12:29:20.069364Z",
     "iopub.status.idle": "2022-08-06T12:29:20.075374Z",
     "shell.execute_reply": "2022-08-06T12:29:20.074521Z"
    },
    "papermill": {
     "duration": 0.013611,
     "end_time": "2022-08-06T12:29:20.077274",
     "exception": false,
     "start_time": "2022-08-06T12:29:20.063663",
     "status": "completed"
    },
    "tags": []
   },
   "outputs": [],
   "source": [
    "BATCH_SIZE = 32\n",
    "EPOCHS = 10\n",
    "IMAGE_SIZE = (150, 150)\n",
    "\n",
    "tf.random.set_seed(0)"
   ]
  },
  {
   "cell_type": "code",
   "execution_count": 3,
   "id": "aeaff427",
   "metadata": {
    "execution": {
     "iopub.execute_input": "2022-08-06T12:29:20.086645Z",
     "iopub.status.busy": "2022-08-06T12:29:20.086332Z",
     "iopub.status.idle": "2022-08-06T12:29:20.091670Z",
     "shell.execute_reply": "2022-08-06T12:29:20.090817Z"
    },
    "papermill": {
     "duration": 0.012187,
     "end_time": "2022-08-06T12:29:20.093523",
     "exception": false,
     "start_time": "2022-08-06T12:29:20.081336",
     "status": "completed"
    },
    "tags": []
   },
   "outputs": [],
   "source": [
    "CLASSES = {'Cataract': 0, 'Diabetes': 1, 'Glaucoma': 2, 'Normal': 3, 'Other': 4}\n"
   ]
  },
  {
   "cell_type": "code",
   "execution_count": 4,
   "id": "82e62699",
   "metadata": {
    "execution": {
     "iopub.execute_input": "2022-08-06T12:29:20.103622Z",
     "iopub.status.busy": "2022-08-06T12:29:20.102870Z",
     "iopub.status.idle": "2022-08-06T12:29:20.108635Z",
     "shell.execute_reply": "2022-08-06T12:29:20.107808Z"
    },
    "papermill": {
     "duration": 0.012835,
     "end_time": "2022-08-06T12:29:20.110564",
     "exception": false,
     "start_time": "2022-08-06T12:29:20.097729",
     "status": "completed"
    },
    "tags": []
   },
   "outputs": [],
   "source": [
    "def shuffle_prune(df, BATCH_SIZE):\n",
    "    df = shuffle(df, random_state=42)\n",
    "    df.reset_index(drop=True, inplace=True)\n",
    "    df = df[ : df.shape[0] // BATCH_SIZE * BATCH_SIZE]\n",
    "    return df"
   ]
  },
  {
   "cell_type": "code",
   "execution_count": 5,
   "id": "a0be41ef",
   "metadata": {
    "execution": {
     "iopub.execute_input": "2022-08-06T12:29:20.120273Z",
     "iopub.status.busy": "2022-08-06T12:29:20.119480Z",
     "iopub.status.idle": "2022-08-06T12:29:21.605332Z",
     "shell.execute_reply": "2022-08-06T12:29:21.603892Z"
    },
    "papermill": {
     "duration": 1.492977,
     "end_time": "2022-08-06T12:29:21.607606",
     "exception": false,
     "start_time": "2022-08-06T12:29:20.114629",
     "status": "completed"
    },
    "tags": []
   },
   "outputs": [
    {
     "name": "stdout",
     "output_type": "stream",
     "text": [
      "Train sample:  6592 {1: 2119, 3: 2091, 4: 1585, 0: 401, 2: 396}\n"
     ]
    }
   ],
   "source": [
    "filenames = tf.io.gfile.glob('../input/eyeeye/ocular/Train/*/*.jpg')\n",
    "image_path_df_train = pd.DataFrame(data={'filename': filenames, 'class': [x.split('/')[-2] for x in filenames]})\n",
    "image_path_df_train = shuffle_prune(image_path_df_train, BATCH_SIZE)\n",
    "image_path_df_train['class'] = image_path_df_train['class'].map(CLASSES)\n",
    "\n",
    "print('Train sample: ', len(image_path_df_train['class']), dict(image_path_df_train['class'].value_counts()))"
   ]
  },
  {
   "cell_type": "code",
   "execution_count": 6,
   "id": "b33531cf",
   "metadata": {
    "execution": {
     "iopub.execute_input": "2022-08-06T12:29:21.618431Z",
     "iopub.status.busy": "2022-08-06T12:29:21.617471Z",
     "iopub.status.idle": "2022-08-06T12:29:21.717920Z",
     "shell.execute_reply": "2022-08-06T12:29:21.716871Z"
    },
    "papermill": {
     "duration": 0.107945,
     "end_time": "2022-08-06T12:29:21.720067",
     "exception": false,
     "start_time": "2022-08-06T12:29:21.612122",
     "status": "completed"
    },
    "tags": []
   },
   "outputs": [
    {
     "name": "stdout",
     "output_type": "stream",
     "text": [
      "Test sample:  1322 {'Diabetes': 424, 'Normal': 422, 'Other': 317, 'Cataract': 80, 'Glaucoma': 79}\n"
     ]
    }
   ],
   "source": [
    "filenames = tf.io.gfile.glob('../input/eyeeye/ocular/Validation/*/*')\n",
    "image_path_df_test = pd.DataFrame(data={'filename': filenames, 'class': [x.split('/')[-2] for x in filenames]})\n",
    "\n",
    "print('Test sample: ', len(image_path_df_test['class']), dict(image_path_df_test['class'].value_counts()))"
   ]
  },
  {
   "cell_type": "code",
   "execution_count": 7,
   "id": "1eb27c10",
   "metadata": {
    "execution": {
     "iopub.execute_input": "2022-08-06T12:29:21.731038Z",
     "iopub.status.busy": "2022-08-06T12:29:21.730210Z",
     "iopub.status.idle": "2022-08-06T12:29:21.747299Z",
     "shell.execute_reply": "2022-08-06T12:29:21.745886Z"
    },
    "papermill": {
     "duration": 0.025582,
     "end_time": "2022-08-06T12:29:21.750170",
     "exception": false,
     "start_time": "2022-08-06T12:29:21.724588",
     "status": "completed"
    },
    "tags": []
   },
   "outputs": [
    {
     "name": "stdout",
     "output_type": "stream",
     "text": [
      "Test sample:  640 {1: 208, 3: 203, 4: 155, 2: 38, 0: 36}\n",
      "Val  sample:  640 {3: 206, 1: 205, 4: 155, 2: 38, 0: 36}\n"
     ]
    }
   ],
   "source": [
    "image_path_df_test, image_path_df_val  = train_test_split(image_path_df_test, test_size=0.5, random_state=42, stratify=image_path_df_test['class'])\n",
    "image_path_df_test = shuffle_prune(image_path_df_test, BATCH_SIZE)\n",
    "image_path_df_test['class'] = image_path_df_test['class'].map(CLASSES)\n",
    "\n",
    "image_path_df_val = shuffle_prune(image_path_df_val, BATCH_SIZE)\n",
    "image_path_df_val['class'] = image_path_df_val['class'].map(CLASSES)\n",
    "\n",
    "print('Test sample: ', len(image_path_df_test['class']), dict(image_path_df_test['class'].value_counts()))\n",
    "print('Val  sample: ', len(image_path_df_val['class']), dict(image_path_df_val['class'].value_counts()))"
   ]
  },
  {
   "cell_type": "code",
   "execution_count": 8,
   "id": "b320472d",
   "metadata": {
    "execution": {
     "iopub.execute_input": "2022-08-06T12:29:21.761313Z",
     "iopub.status.busy": "2022-08-06T12:29:21.760465Z",
     "iopub.status.idle": "2022-08-06T12:29:21.766654Z",
     "shell.execute_reply": "2022-08-06T12:29:21.765758Z"
    },
    "papermill": {
     "duration": 0.013618,
     "end_time": "2022-08-06T12:29:21.768711",
     "exception": false,
     "start_time": "2022-08-06T12:29:21.755093",
     "status": "completed"
    },
    "tags": []
   },
   "outputs": [],
   "source": [
    "def get_images_and_labels_arrays(df):\n",
    "    images = []\n",
    "    for file in df['filename']:\n",
    "        image = cv2.imread(file)\n",
    "        image = cv2.resize(image,IMAGE_SIZE)\n",
    "        images.append(image)\n",
    "    images = np.array(images)\n",
    "    \n",
    "    labels = df.loc[:, 'class']\n",
    "    return images, labels"
   ]
  },
  {
   "cell_type": "code",
   "execution_count": 9,
   "id": "cd0f8abc",
   "metadata": {
    "execution": {
     "iopub.execute_input": "2022-08-06T12:29:21.778959Z",
     "iopub.status.busy": "2022-08-06T12:29:21.778619Z",
     "iopub.status.idle": "2022-08-06T12:30:15.694633Z",
     "shell.execute_reply": "2022-08-06T12:30:15.693611Z"
    },
    "papermill": {
     "duration": 53.928495,
     "end_time": "2022-08-06T12:30:15.701563",
     "exception": false,
     "start_time": "2022-08-06T12:29:21.773068",
     "status": "completed"
    },
    "tags": []
   },
   "outputs": [
    {
     "name": "stdout",
     "output_type": "stream",
     "text": [
      "Shape of train set: (6592, 150, 150, 3)\n",
      "Shape of train set: (6592,)\n"
     ]
    }
   ],
   "source": [
    "train_images, train_labels = get_images_and_labels_arrays(image_path_df_train)\n",
    "\n",
    "print(f'Shape of train set: {train_images.shape}')\n",
    "print(f'Shape of train set: {train_labels.shape}')"
   ]
  },
  {
   "cell_type": "code",
   "execution_count": 10,
   "id": "e55d0165",
   "metadata": {
    "execution": {
     "iopub.execute_input": "2022-08-06T12:30:15.713754Z",
     "iopub.status.busy": "2022-08-06T12:30:15.712235Z",
     "iopub.status.idle": "2022-08-06T12:30:20.770361Z",
     "shell.execute_reply": "2022-08-06T12:30:20.768597Z"
    },
    "papermill": {
     "duration": 5.067383,
     "end_time": "2022-08-06T12:30:20.774194",
     "exception": false,
     "start_time": "2022-08-06T12:30:15.706811",
     "status": "completed"
    },
    "tags": []
   },
   "outputs": [
    {
     "name": "stdout",
     "output_type": "stream",
     "text": [
      "Shape of validation set: (640, 150, 150, 3)\n",
      "Shape of validation set: (640,)\n"
     ]
    }
   ],
   "source": [
    "val_images, val_labels = get_images_and_labels_arrays(image_path_df_val)\n",
    "\n",
    "print(f'Shape of validation set: {val_images.shape}')\n",
    "print(f'Shape of validation set: {val_labels.shape}')"
   ]
  },
  {
   "cell_type": "code",
   "execution_count": 11,
   "id": "ac6f7f8e",
   "metadata": {
    "execution": {
     "iopub.execute_input": "2022-08-06T12:30:20.786327Z",
     "iopub.status.busy": "2022-08-06T12:30:20.786012Z",
     "iopub.status.idle": "2022-08-06T12:30:26.103589Z",
     "shell.execute_reply": "2022-08-06T12:30:26.101897Z"
    },
    "papermill": {
     "duration": 5.32671,
     "end_time": "2022-08-06T12:30:26.106638",
     "exception": false,
     "start_time": "2022-08-06T12:30:20.779928",
     "status": "completed"
    },
    "tags": []
   },
   "outputs": [
    {
     "name": "stdout",
     "output_type": "stream",
     "text": [
      "Shape of test set: (640, 150, 150, 3)\n",
      "Shape of test set: (640,)\n"
     ]
    }
   ],
   "source": [
    "test_images, test_labels = get_images_and_labels_arrays(image_path_df_test)\n",
    "\n",
    "print(f'Shape of test set: {test_images.shape}')\n",
    "print(f'Shape of test set: {test_labels.shape}')"
   ]
  },
  {
   "cell_type": "code",
   "execution_count": 12,
   "id": "4e135be1",
   "metadata": {
    "execution": {
     "iopub.execute_input": "2022-08-06T12:30:26.117792Z",
     "iopub.status.busy": "2022-08-06T12:30:26.117508Z",
     "iopub.status.idle": "2022-08-06T12:30:30.087556Z",
     "shell.execute_reply": "2022-08-06T12:30:30.084556Z"
    },
    "papermill": {
     "duration": 3.978296,
     "end_time": "2022-08-06T12:30:30.089950",
     "exception": false,
     "start_time": "2022-08-06T12:30:26.111654",
     "status": "completed"
    },
    "tags": []
   },
   "outputs": [
    {
     "name": "stderr",
     "output_type": "stream",
     "text": [
      "2022-08-06 12:30:26.192909: I tensorflow/stream_executor/cuda/cuda_gpu_executor.cc:937] successful NUMA node read from SysFS had negative value (-1), but there must be at least one NUMA node, so returning NUMA node zero\n",
      "2022-08-06 12:30:26.311328: I tensorflow/stream_executor/cuda/cuda_gpu_executor.cc:937] successful NUMA node read from SysFS had negative value (-1), but there must be at least one NUMA node, so returning NUMA node zero\n",
      "2022-08-06 12:30:26.312228: I tensorflow/stream_executor/cuda/cuda_gpu_executor.cc:937] successful NUMA node read from SysFS had negative value (-1), but there must be at least one NUMA node, so returning NUMA node zero\n",
      "2022-08-06 12:30:26.316384: I tensorflow/core/platform/cpu_feature_guard.cc:142] This TensorFlow binary is optimized with oneAPI Deep Neural Network Library (oneDNN) to use the following CPU instructions in performance-critical operations:  AVX2 AVX512F FMA\n",
      "To enable them in other operations, rebuild TensorFlow with the appropriate compiler flags.\n",
      "2022-08-06 12:30:26.316680: I tensorflow/stream_executor/cuda/cuda_gpu_executor.cc:937] successful NUMA node read from SysFS had negative value (-1), but there must be at least one NUMA node, so returning NUMA node zero\n",
      "2022-08-06 12:30:26.317430: I tensorflow/stream_executor/cuda/cuda_gpu_executor.cc:937] successful NUMA node read from SysFS had negative value (-1), but there must be at least one NUMA node, so returning NUMA node zero\n",
      "2022-08-06 12:30:26.318141: I tensorflow/stream_executor/cuda/cuda_gpu_executor.cc:937] successful NUMA node read from SysFS had negative value (-1), but there must be at least one NUMA node, so returning NUMA node zero\n",
      "2022-08-06 12:30:28.479573: I tensorflow/stream_executor/cuda/cuda_gpu_executor.cc:937] successful NUMA node read from SysFS had negative value (-1), but there must be at least one NUMA node, so returning NUMA node zero\n",
      "2022-08-06 12:30:28.480480: I tensorflow/stream_executor/cuda/cuda_gpu_executor.cc:937] successful NUMA node read from SysFS had negative value (-1), but there must be at least one NUMA node, so returning NUMA node zero\n",
      "2022-08-06 12:30:28.481187: I tensorflow/stream_executor/cuda/cuda_gpu_executor.cc:937] successful NUMA node read from SysFS had negative value (-1), but there must be at least one NUMA node, so returning NUMA node zero\n",
      "2022-08-06 12:30:28.481806: I tensorflow/core/common_runtime/gpu/gpu_device.cc:1510] Created device /job:localhost/replica:0/task:0/device:GPU:0 with 15403 MB memory:  -> device: 0, name: Tesla P100-PCIE-16GB, pci bus id: 0000:00:04.0, compute capability: 6.0\n"
     ]
    },
    {
     "name": "stdout",
     "output_type": "stream",
     "text": [
      "Downloading data from https://storage.googleapis.com/tensorflow/keras-applications/vgg19/vgg19_weights_tf_dim_ordering_tf_kernels_notop.h5\n",
      "80142336/80134624 [==============================] - 0s 0us/step\n",
      "80150528/80134624 [==============================] - 0s 0us/step\n",
      "Model: \"model\"\n",
      "_________________________________________________________________\n",
      "Layer (type)                 Output Shape              Param #   \n",
      "=================================================================\n",
      "input (InputLayer)           [(None, 150, 150, 3)]     0         \n",
      "_________________________________________________________________\n",
      "vgg19 (Functional)           (None, 4, 4, 512)         20024384  \n",
      "_________________________________________________________________\n",
      "global_average_pooling2d (Gl (None, 512)               0         \n",
      "_________________________________________________________________\n",
      "batch_normalization (BatchNo (None, 512)               2048      \n",
      "_________________________________________________________________\n",
      "dense (Dense)                (None, 256)               131328    \n",
      "_________________________________________________________________\n",
      "batch_normalization_1 (Batch (None, 256)               1024      \n",
      "_________________________________________________________________\n",
      "dense_1 (Dense)              (None, 128)               32896     \n",
      "_________________________________________________________________\n",
      "output (Dense)               (None, 5)                 645       \n",
      "=================================================================\n",
      "Total params: 20,192,325\n",
      "Trainable params: 166,405\n",
      "Non-trainable params: 20,025,920\n",
      "_________________________________________________________________\n"
     ]
    }
   ],
   "source": [
    "def create_model():\n",
    "    with tf.device('/gpu:0'):\n",
    "        pretrained_model = tf.keras.applications.VGG19(\n",
    "            weights='imagenet',\n",
    "            include_top=False ,\n",
    "            input_shape=[*IMAGE_SIZE, 3]\n",
    "        )\n",
    "        pretrained_model.trainable = False\n",
    "\n",
    "        \n",
    "        \n",
    "        input_layer = layers.Input(shape=(*IMAGE_SIZE, 3), name='input') \n",
    "        \n",
    "        x = pretrained_model(input_layer)\n",
    "\n",
    "        x = layers.GlobalAveragePooling2D(name='global_average_pooling2d')(x)\n",
    "        x = layers.BatchNormalization()(x)       \n",
    "        x = layers.Dense(256,activation='relu')(x)\n",
    "        x = layers.BatchNormalization()(x)\n",
    "        x = layers.Dense(128, activation='relu')(x)\n",
    "        \n",
    "        output = layers.Dense(units=len(CLASSES), \n",
    "                              activation='softmax', \n",
    "                              name='output')(x)\n",
    "\n",
    "\n",
    "        model = Model (input_layer, output)    \n",
    "        model.compile(optimizer='adam', \n",
    "                      loss='sparse_categorical_crossentropy', \n",
    "                      metrics=['accuracy'])\n",
    "\n",
    "        return model\n",
    "\n",
    "model = create_model()\n",
    "model.summary()"
   ]
  },
  {
   "cell_type": "code",
   "execution_count": 13,
   "id": "5a6ea39a",
   "metadata": {
    "execution": {
     "iopub.execute_input": "2022-08-06T12:30:30.102566Z",
     "iopub.status.busy": "2022-08-06T12:30:30.102256Z",
     "iopub.status.idle": "2022-08-06T12:35:35.089679Z",
     "shell.execute_reply": "2022-08-06T12:35:35.088180Z"
    },
    "papermill": {
     "duration": 304.995937,
     "end_time": "2022-08-06T12:35:35.091914",
     "exception": false,
     "start_time": "2022-08-06T12:30:30.095977",
     "status": "completed"
    },
    "tags": []
   },
   "outputs": [
    {
     "name": "stderr",
     "output_type": "stream",
     "text": [
      "2022-08-06 12:30:31.015128: I tensorflow/compiler/mlir/mlir_graph_optimization_pass.cc:185] None of the MLIR Optimization Passes are enabled (registered 2)\n"
     ]
    },
    {
     "name": "stdout",
     "output_type": "stream",
     "text": [
      "Epoch 1/50\n"
     ]
    },
    {
     "name": "stderr",
     "output_type": "stream",
     "text": [
      "2022-08-06 12:30:32.826211: I tensorflow/stream_executor/cuda/cuda_dnn.cc:369] Loaded cuDNN version 8005\n"
     ]
    },
    {
     "name": "stdout",
     "output_type": "stream",
     "text": [
      "206/206 [==============================] - 17s 44ms/step - loss: 1.4189 - accuracy: 0.3794 - val_loss: 1.1218 - val_accuracy: 0.5406\n",
      "Epoch 2/50\n",
      "206/206 [==============================] - 9s 42ms/step - loss: 1.1317 - accuracy: 0.4967 - val_loss: 0.9710 - val_accuracy: 0.5938\n",
      "Epoch 3/50\n",
      "206/206 [==============================] - 9s 45ms/step - loss: 1.0165 - accuracy: 0.5583 - val_loss: 0.8809 - val_accuracy: 0.6359\n",
      "Epoch 4/50\n",
      "206/206 [==============================] - 9s 42ms/step - loss: 0.9263 - accuracy: 0.6073 - val_loss: 0.7598 - val_accuracy: 0.6984\n",
      "Epoch 5/50\n",
      "206/206 [==============================] - 9s 45ms/step - loss: 0.8589 - accuracy: 0.6371 - val_loss: 0.7183 - val_accuracy: 0.7172\n",
      "Epoch 6/50\n",
      "206/206 [==============================] - 9s 45ms/step - loss: 0.7723 - accuracy: 0.6817 - val_loss: 0.6387 - val_accuracy: 0.7359\n",
      "Epoch 7/50\n",
      "206/206 [==============================] - 9s 42ms/step - loss: 0.7096 - accuracy: 0.7033 - val_loss: 0.6102 - val_accuracy: 0.7563\n",
      "Epoch 8/50\n",
      "206/206 [==============================] - 9s 43ms/step - loss: 0.6529 - accuracy: 0.7312 - val_loss: 0.5811 - val_accuracy: 0.7703\n",
      "Epoch 9/50\n",
      "206/206 [==============================] - 9s 45ms/step - loss: 0.6120 - accuracy: 0.7420 - val_loss: 0.5470 - val_accuracy: 0.7797\n",
      "Epoch 10/50\n",
      "206/206 [==============================] - 9s 45ms/step - loss: 0.5651 - accuracy: 0.7668 - val_loss: 0.4846 - val_accuracy: 0.8188\n",
      "Epoch 11/50\n",
      "206/206 [==============================] - 9s 42ms/step - loss: 0.5560 - accuracy: 0.7690 - val_loss: 0.4362 - val_accuracy: 0.8281\n",
      "Epoch 12/50\n",
      "206/206 [==============================] - 9s 42ms/step - loss: 0.5122 - accuracy: 0.7864 - val_loss: 0.4677 - val_accuracy: 0.8234\n",
      "\n",
      "Epoch 00012: ReduceLROnPlateau reducing learning rate to 0.0003000000142492354.\n",
      "Epoch 13/50\n",
      "206/206 [==============================] - 9s 45ms/step - loss: 0.4047 - accuracy: 0.8312 - val_loss: 0.3599 - val_accuracy: 0.8578\n",
      "Epoch 14/50\n",
      "206/206 [==============================] - 9s 45ms/step - loss: 0.3626 - accuracy: 0.8469 - val_loss: 0.3350 - val_accuracy: 0.8687\n",
      "Epoch 15/50\n",
      "206/206 [==============================] - 9s 45ms/step - loss: 0.3521 - accuracy: 0.8457 - val_loss: 0.3195 - val_accuracy: 0.8687\n",
      "\n",
      "Epoch 00015: ReduceLROnPlateau reducing learning rate to 9.000000427477062e-05.\n",
      "Epoch 16/50\n",
      "206/206 [==============================] - 9s 45ms/step - loss: 0.3144 - accuracy: 0.8650 - val_loss: 0.3176 - val_accuracy: 0.8656\n",
      "\n",
      "Epoch 00016: ReduceLROnPlateau reducing learning rate to 2.700000040931627e-05.\n",
      "Epoch 17/50\n",
      "206/206 [==============================] - 9s 42ms/step - loss: 0.3035 - accuracy: 0.8689 - val_loss: 0.3132 - val_accuracy: 0.8672\n",
      "\n",
      "Epoch 00017: ReduceLROnPlateau reducing learning rate to 8.100000013655517e-06.\n",
      "Epoch 18/50\n",
      "206/206 [==============================] - 9s 45ms/step - loss: 0.3010 - accuracy: 0.8683 - val_loss: 0.3103 - val_accuracy: 0.8703\n",
      "Epoch 19/50\n",
      "206/206 [==============================] - 9s 43ms/step - loss: 0.2928 - accuracy: 0.8688 - val_loss: 0.3113 - val_accuracy: 0.8641\n",
      "\n",
      "Epoch 00019: ReduceLROnPlateau reducing learning rate to 2.429999949526973e-06.\n",
      "Epoch 20/50\n",
      "206/206 [==============================] - 9s 42ms/step - loss: 0.2913 - accuracy: 0.8733 - val_loss: 0.3118 - val_accuracy: 0.8719\n",
      "Epoch 21/50\n",
      "206/206 [==============================] - 9s 42ms/step - loss: 0.2939 - accuracy: 0.8773 - val_loss: 0.3103 - val_accuracy: 0.8687\n",
      "\n",
      "Epoch 00021: ReduceLROnPlateau reducing learning rate to 1e-06.\n",
      "Epoch 22/50\n",
      "206/206 [==============================] - 9s 43ms/step - loss: 0.2913 - accuracy: 0.8747 - val_loss: 0.3093 - val_accuracy: 0.8719\n",
      "Epoch 23/50\n",
      "206/206 [==============================] - 9s 42ms/step - loss: 0.2971 - accuracy: 0.8753 - val_loss: 0.3067 - val_accuracy: 0.8641\n",
      "Epoch 24/50\n",
      "206/206 [==============================] - 9s 42ms/step - loss: 0.2971 - accuracy: 0.8711 - val_loss: 0.3096 - val_accuracy: 0.8672\n",
      "Epoch 25/50\n",
      "206/206 [==============================] - 9s 42ms/step - loss: 0.2910 - accuracy: 0.8767 - val_loss: 0.3088 - val_accuracy: 0.8656\n",
      "Epoch 26/50\n",
      "206/206 [==============================] - 9s 43ms/step - loss: 0.2950 - accuracy: 0.8741 - val_loss: 0.3085 - val_accuracy: 0.8687\n",
      "Epoch 27/50\n",
      "206/206 [==============================] - 9s 42ms/step - loss: 0.2940 - accuracy: 0.8726 - val_loss: 0.3083 - val_accuracy: 0.8734\n",
      "Epoch 28/50\n",
      "206/206 [==============================] - 9s 42ms/step - loss: 0.3027 - accuracy: 0.8677 - val_loss: 0.3108 - val_accuracy: 0.8672\n",
      "Epoch 29/50\n",
      "206/206 [==============================] - 9s 42ms/step - loss: 0.2940 - accuracy: 0.8806 - val_loss: 0.3124 - val_accuracy: 0.8656\n",
      "Epoch 30/50\n",
      "206/206 [==============================] - 9s 43ms/step - loss: 0.3011 - accuracy: 0.8724 - val_loss: 0.3122 - val_accuracy: 0.8672\n",
      "Epoch 31/50\n",
      "206/206 [==============================] - 9s 42ms/step - loss: 0.2945 - accuracy: 0.8759 - val_loss: 0.3097 - val_accuracy: 0.8687\n",
      "Epoch 32/50\n",
      "206/206 [==============================] - 9s 45ms/step - loss: 0.2940 - accuracy: 0.8742 - val_loss: 0.3104 - val_accuracy: 0.8734\n",
      "Epoch 33/50\n",
      "206/206 [==============================] - 9s 43ms/step - loss: 0.2904 - accuracy: 0.8777 - val_loss: 0.3070 - val_accuracy: 0.8703\n",
      "\n",
      "Required time:  0:05:04.979317\n",
      "\n"
     ]
    }
   ],
   "source": [
    "init_time = datetime.datetime.now()\n",
    "learning_rate_reduction = ReduceLROnPlateau(monitor='val_accuracy', patience = 1, verbose=1, factor=0.3, min_lr=0.000001)\n",
    "early_stopping = tf.keras.callbacks.EarlyStopping(\n",
    "    monitor=\"val_loss\",\n",
    "    patience=10,\n",
    "    restore_best_weights=True,\n",
    ")\n",
    "\n",
    "trained = model.fit(\n",
    "                    train_images, train_labels,\n",
    "                    validation_data = (val_images, val_labels),\n",
    "                    batch_size = BATCH_SIZE, \n",
    "                    epochs=50,\n",
    "                    callbacks=[learning_rate_reduction, early_stopping],\n",
    "    )\n",
    "\n",
    "requared_time = datetime.datetime.now() - init_time\n",
    "print(f'\\nRequired time:  {str(requared_time)}\\n')"
   ]
  },
  {
   "cell_type": "code",
   "execution_count": 14,
   "id": "bede7ac0",
   "metadata": {
    "execution": {
     "iopub.execute_input": "2022-08-06T12:35:35.457886Z",
     "iopub.status.busy": "2022-08-06T12:35:35.456644Z",
     "iopub.status.idle": "2022-08-06T12:35:36.267356Z",
     "shell.execute_reply": "2022-08-06T12:35:36.265302Z"
    },
    "papermill": {
     "duration": 0.995806,
     "end_time": "2022-08-06T12:35:36.269728",
     "exception": false,
     "start_time": "2022-08-06T12:35:35.273922",
     "status": "completed"
    },
    "tags": []
   },
   "outputs": [
    {
     "name": "stdout",
     "output_type": "stream",
     "text": [
      "\n",
      "accuracy: 0.8843749761581421   loss:  0.2709566652774811\n"
     ]
    }
   ],
   "source": [
    "test_loss, test_acc = model.evaluate(test_images, test_labels, verbose=0)\n",
    "print('\\naccuracy:', test_acc, '  loss: ',test_loss)"
   ]
  },
  {
   "cell_type": "code",
   "execution_count": 15,
   "id": "e46d4344",
   "metadata": {
    "execution": {
     "iopub.execute_input": "2022-08-06T12:35:36.632899Z",
     "iopub.status.busy": "2022-08-06T12:35:36.632502Z",
     "iopub.status.idle": "2022-08-06T12:35:37.058637Z",
     "shell.execute_reply": "2022-08-06T12:35:37.057734Z"
    },
    "papermill": {
     "duration": 0.609214,
     "end_time": "2022-08-06T12:35:37.061071",
     "exception": false,
     "start_time": "2022-08-06T12:35:36.451857",
     "status": "completed"
    },
    "tags": []
   },
   "outputs": [
    {
     "data": {
      "image/png": "[encoded data removed]",
      "text/plain": [
       "<Figure size 432x288 with 1 Axes>"
      ]
     },
     "metadata": {
      "needs_background": "light"
     },
     "output_type": "display_data"
    },
    {
     "data": {
      "image/png": "[encoded data removed]",
      "text/plain": [
       "<Figure size 432x288 with 1 Axes>"
      ]
     },
     "metadata": {
      "needs_background": "light"
     },
     "output_type": "display_data"
    }
   ],
   "source": [
    "def plot(wut):\n",
    "    plt.plot(trained.history[f'{wut}'])\n",
    "    plt.plot(trained.history[f'val_{wut}'])\n",
    "    plt.title(f'model {wut}')\n",
    "    plt.ylabel(f'{wut}')\n",
    "    plt.xlabel('epoch')\n",
    "    plt.legend(['train', 'val'], loc='upper left')\n",
    "    plt.show()\n",
    "\n",
    "plot('accuracy')\n",
    "plot('loss')"
   ]
  },
  {
   "cell_type": "code",
   "execution_count": 16,
   "id": "5c448529",
   "metadata": {
    "execution": {
     "iopub.execute_input": "2022-08-06T12:35:37.421857Z",
     "iopub.status.busy": "2022-08-06T12:35:37.421483Z",
     "iopub.status.idle": "2022-08-06T12:35:39.217485Z",
     "shell.execute_reply": "2022-08-06T12:35:39.216325Z"
    },
    "papermill": {
     "duration": 1.979159,
     "end_time": "2022-08-06T12:35:39.220325",
     "exception": false,
     "start_time": "2022-08-06T12:35:37.241166",
     "status": "completed"
    },
    "tags": []
   },
   "outputs": [
    {
     "name": "stdout",
     "output_type": "stream",
     "text": [
      "Classification Report\n"
     ]
    },
    {
     "data": {
      "image/png": "[encoded data removed]",
      "text/plain": [
       "<Figure size 432x288 with 2 Axes>"
      ]
     },
     "metadata": {
      "needs_background": "light"
     },
     "output_type": "display_data"
    },
    {
     "name": "stdout",
     "output_type": "stream",
     "text": [
      "              precision    recall  f1-score   support\n",
      "\n",
      "    Cataract       0.75      0.83      0.79        36\n",
      "    Diabetes       0.87      0.84      0.86       208\n",
      "    Glaucoma       0.86      0.95      0.90        38\n",
      "      NOrmal       0.99      0.98      0.98       203\n",
      "       Other       0.81      0.82      0.81       155\n",
      "\n",
      "    accuracy                           0.88       640\n",
      "   macro avg       0.86      0.88      0.87       640\n",
      "weighted avg       0.89      0.88      0.88       640\n",
      "\n"
     ]
    }
   ],
   "source": [
    "from sklearn.metrics import ConfusionMatrixDisplay\n",
    "from sklearn.metrics import confusion_matrix\n",
    "\n",
    "Y_pred = model.predict(test_images)\n",
    "y_pred = np.argmax(Y_pred, axis=1)\n",
    "cm = confusion_matrix(test_labels, y_pred)\n",
    "print('Classification Report')\n",
    "target_names = ['Cataract', 'Diabetes', 'Glaucoma', 'NOrmal', 'Other']\n",
    "disp = ConfusionMatrixDisplay(confusion_matrix=cm, display_labels=target_names)\n",
    "\n",
    "disp.plot(cmap=plt.cm.Blues)\n",
    "plt.show()\n",
    "\n",
    "print(classification_report(test_labels, y_pred, labels=[0,1,2,3,4], target_names=target_names))"
   ]
  },
  {
   "cell_type": "code",
   "execution_count": 17,
   "id": "f75d5dd8",
   "metadata": {
    "execution": {
     "iopub.execute_input": "2022-08-06T12:35:39.593238Z",
     "iopub.status.busy": "2022-08-06T12:35:39.592887Z",
     "iopub.status.idle": "2022-08-06T12:35:39.756669Z",
     "shell.execute_reply": "2022-08-06T12:35:39.755698Z"
    },
    "papermill": {
     "duration": 0.351598,
     "end_time": "2022-08-06T12:35:39.759256",
     "exception": false,
     "start_time": "2022-08-06T12:35:39.407658",
     "status": "completed"
    },
    "tags": []
   },
   "outputs": [],
   "source": [
    "model.save(\"final.h5\")"
   ]
  },
  {
   "cell_type": "code",
   "execution_count": 18,
   "id": "07c6f760",
   "metadata": {
    "execution": {
     "iopub.execute_input": "2022-08-06T12:35:40.168270Z",
     "iopub.status.busy": "2022-08-06T12:35:40.167569Z",
     "iopub.status.idle": "2022-08-06T12:35:40.303726Z",
     "shell.execute_reply": "2022-08-06T12:35:40.302762Z"
    },
    "papermill": {
     "duration": 0.320888,
     "end_time": "2022-08-06T12:35:40.306083",
     "exception": false,
     "start_time": "2022-08-06T12:35:39.985195",
     "status": "completed"
    },
    "tags": []
   },
   "outputs": [],
   "source": [
    "model.save_weights(\"final_weights.h5\")"
   ]
  },
  {
   "cell_type": "code",
   "execution_count": null,
   "id": "41171814",
   "metadata": {
    "papermill": {
     "duration": 0.178029,
     "end_time": "2022-08-06T12:35:40.669353",
     "exception": false,
     "start_time": "2022-08-06T12:35:40.491324",
     "status": "completed"
    },
    "tags": []
   },
   "outputs": [],
   "source": []
  }
 ],
 "metadata": {
  "kernelspec": {
   "display_name": "Python 3",
   "language": "python",
   "name": "python3"
  },
  "language_info": {
   "codemirror_mode": {
    "name": "ipython",
    "version": 3
   },
   "file_extension": ".py",
   "mimetype": "text/x-python",
   "name": "python",
   "nbconvert_exporter": "python",
   "pygments_lexer": "ipython3",
   "version": "3.7.12"
  },
  "papermill": {
   "default_parameters": {},
   "duration": 398.436972,
   "end_time": "2022-08-06T12:35:44.479335",
   "environment_variables": {},
   "exception": null,
   "input_path": "__notebook__.ipynb",
   "output_path": "__notebook__.ipynb",
   "parameters": {},
   "start_time": "2022-08-06T12:29:06.042363",
   "version": "2.3.4"
  }
 },
 "nbformat": 4,
 "nbformat_minor": 5
}
